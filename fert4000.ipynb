{
 "cells": [
  {
   "cell_type": "code",
   "execution_count": 69,
   "metadata": {},
   "outputs": [],
   "source": [
    "import pandas as pd\n",
    "import matplotlib.pyplot as plt"
   ]
  },
  {
   "cell_type": "code",
   "execution_count": 70,
   "metadata": {},
   "outputs": [],
   "source": [
    "dataset = pd.read_csv('ds1.csv')"
   ]
  },
  {
   "cell_type": "code",
   "execution_count": 71,
   "metadata": {},
   "outputs": [
    {
     "data": {
      "text/plain": [
       "0       0\n",
       "1       0\n",
       "2       0\n",
       "3       0\n",
       "4       0\n",
       "       ..\n",
       "4508    4\n",
       "4509    4\n",
       "4510    4\n",
       "4511    4\n",
       "4512    4\n",
       "Name: District_Name, Length: 4513, dtype: int64"
      ]
     },
     "execution_count": 71,
     "metadata": {},
     "output_type": "execute_result"
    }
   ],
   "source": [
    "DN = list(dataset.District_Name.unique())\n",
    "for i in range(len(DN)):\n",
    "    dataset.District_Name.replace({DN[i]:i},inplace=True)\n",
    "dataset.District_Name"
   ]
  },
  {
   "cell_type": "code",
   "execution_count": 72,
   "metadata": {},
   "outputs": [
    {
     "data": {
      "text/plain": [
       "0       0\n",
       "1       0\n",
       "2       0\n",
       "3       0\n",
       "4       0\n",
       "       ..\n",
       "4508    0\n",
       "4509    0\n",
       "4510    0\n",
       "4511    0\n",
       "4512    0\n",
       "Name: Soil_color, Length: 4513, dtype: int64"
      ]
     },
     "execution_count": 72,
     "metadata": {},
     "output_type": "execute_result"
    }
   ],
   "source": [
    "SC = list(dataset.Soil_color.unique())\n",
    "for i in range(len(SC)):\n",
    "    dataset.Soil_color.replace({SC[i]:i},inplace=True)\n",
    "dataset.Soil_color"
   ]
  },
  {
   "cell_type": "code",
   "execution_count": 73,
   "metadata": {},
   "outputs": [
    {
     "data": {
      "text/plain": [
       "array(['Sugarcane', 'Jowar', 'Cotton', 'Rice', 'Wheat', 'Groundnut',\n",
       "       'Maize', 'Tur', 'Urad', 'Moong', 'Gram', 'Masoor', 'Soybean',\n",
       "       'Ginger', 'Turmeric', 'Grapes'], dtype=object)"
      ]
     },
     "execution_count": 73,
     "metadata": {},
     "output_type": "execute_result"
    }
   ],
   "source": [
    "dataset.Crop.unique()"
   ]
  },
  {
   "cell_type": "code",
   "execution_count": 74,
   "metadata": {},
   "outputs": [
    {
     "data": {
      "text/plain": [
       "0       0\n",
       "1       0\n",
       "2       0\n",
       "3       0\n",
       "4       0\n",
       "       ..\n",
       "4508    0\n",
       "4509    0\n",
       "4510    0\n",
       "4511    0\n",
       "4512    0\n",
       "Name: Crop, Length: 4513, dtype: int64"
      ]
     },
     "execution_count": 74,
     "metadata": {},
     "output_type": "execute_result"
    }
   ],
   "source": [
    "C = list(dataset.Crop.unique())\n",
    "for i in range(len(C)):\n",
    "    dataset.Crop.replace({C[i]:i},inplace=True)\n",
    "dataset.Crop"
   ]
  },
  {
   "cell_type": "code",
   "execution_count": 75,
   "metadata": {},
   "outputs": [
    {
     "data": {
      "text/plain": [
       "array([ 0,  1,  2,  3,  4,  5,  6,  7,  8,  9, 10, 11, 12, 13, 14, 15, 16,\n",
       "       17, 18], dtype=int64)"
      ]
     },
     "execution_count": 75,
     "metadata": {},
     "output_type": "execute_result"
    }
   ],
   "source": [
    "F = list(dataset.Fertilizer.unique())\n",
    "for i in range(len(F)):\n",
    "    dataset.Fertilizer.replace({F[i]:i},inplace=True)\n",
    "dataset.Fertilizer.unique()"
   ]
  },
  {
   "cell_type": "code",
   "execution_count": 76,
   "metadata": {},
   "outputs": [],
   "source": [
    "from sklearn.model_selection import train_test_split\n",
    "from sklearn.ensemble import RandomForestClassifier"
   ]
  },
  {
   "cell_type": "code",
   "execution_count": 77,
   "metadata": {},
   "outputs": [
    {
     "name": "stdout",
     "output_type": "stream",
     "text": [
      "      District_Name  Soil_color  Nitrogen  Phosphorus  Potassium   pH  \\\n",
      "0                 0           0        75          50        100  6.5   \n",
      "1                 0           0        80          50        100  6.5   \n",
      "2                 0           0        85          50        100  6.5   \n",
      "3                 0           0        90          50        100  6.5   \n",
      "4                 0           0        95          50        100  6.5   \n",
      "...             ...         ...       ...         ...        ...  ...   \n",
      "4508              4           0       130          80        150  7.0   \n",
      "4509              4           0       135          80        150  7.0   \n",
      "4510              4           0       140          80        150  7.0   \n",
      "4511              4           0       145          80        150  7.0   \n",
      "4512              4           0       150          80        150  7.0   \n",
      "\n",
      "      Rainfall  Temperature  Crop  \n",
      "0         1000           20     0  \n",
      "1         1000           20     0  \n",
      "2         1000           20     0  \n",
      "3         1000           20     0  \n",
      "4         1000           20     0  \n",
      "...        ...          ...   ...  \n",
      "4508      1400           30     0  \n",
      "4509      1400           30     0  \n",
      "4510      1400           30     0  \n",
      "4511      1400           30     0  \n",
      "4512      1400           30     0  \n",
      "\n",
      "[4513 rows x 9 columns]\n"
     ]
    }
   ],
   "source": [
    "input_data = dataset.iloc[: , :9]\n",
    "print(input_data)"
   ]
  },
  {
   "cell_type": "code",
   "execution_count": 78,
   "metadata": {},
   "outputs": [
    {
     "name": "stdout",
     "output_type": "stream",
     "text": [
      "[ 9  1  1  5  7  1  0 14  2  5  0  2  1  4  1 10  0  1  5  0  7  3  0  0\n",
      "  5  8  4 17  2  9  0  1  5  0  4  9  3  0  2  0  1  9  9  9  2  0  2  2\n",
      "  0  0  0  5  1  8  8  2  0 15  0  9  3  9  2  5  1 17  9  9  0 10  7  6\n",
      "  4  9  0  0  0  0  4  4  2  9  0  0  5  1  4  0 10  4  0  0 10  4  2  1\n",
      "  1  9  0  2  0  7  2  0  4  5  0  2  9  1  0  0 10  0  9  0  0  1  0  8\n",
      "  0  0  0  6  1  1  5  2  7  2  0  0  0  1 10  1  9  0 15  2  0  2 10  5\n",
      "  5  2 15  1  0  1  2  9  1  3 16  5  1  4  0  0  1  9  1  3  1  1  1  2\n",
      "  4  4  3  9  9  7  6  4  9  4  2  3  1  0  1  4  0  0  0  1  0  3  2  4\n",
      "  0  0  1  0  0  7  0  2 10  9  9  0  0  4  0  0  4 14  2  0  0  9  2  4\n",
      "  2  0  1 10  3  3  4  3  0  4  1 17  0  1  1  2  5  4  0  0 10 15  0  9\n",
      "  4  0 15  2  9  2  0  1  0  6  0  0  2  0  5  5 17  9  4  3  2  7  1  9\n",
      "  6  8  9  1  8  4  2  8  1  2  1  0  1  5  0  1  0  2  2  6  1  1  0  2\n",
      "  5 14  3  0  0  2  1  0  9  1  0  9  0  0  0  0  2  2  0  9  0  0  2  6\n",
      "  4  9  9  1  0 10  2  2  0  0  1  1  9  0  1  0  2  6  2  1  2  9 14  0\n",
      "  1  9  0  5  3  3  7  9  2  0  2  0  0  0  6  1  0  2  8  1  5 17  0  5\n",
      "  1  0  0  0 10  2  8  1  7  9  4  1  9  0  0  0  0  3  0  0  9  0  3  9\n",
      "  0  4 10  0 17  2  0  0  4  0  1  0  3  2  2  2  5  9  0  1  0  1  0  2\n",
      " 11  2  7  7  1  9  2  5  0  2  2  0  0  0  1  1  9  1 13  4  2  1  2  4\n",
      "  2  0  7  2  2  0  1 15  5  0  9  0  9  9  0  0  9  4  1  0  9  1  1  0\n",
      "  9  0  0  0  0  3 14 16  2  8  8  7  2  4  7  4  9  1  9  4  2  0  0 18\n",
      "  1  2  1  2  2  0  3  6  0  4  7  0  2  9  8  0  4  1  0  4  0  0  9  3\n",
      "  9  9  2  9  0  2  4 18  9  9  1  0  6  9  9  2  0  9  8  0  1  1  5 14\n",
      "  6  2  1  2  0 10  8  9 15  5  2  3  0  0  9  0  1 10  5  3  1  2  5  8\n",
      "  2  8  0  2  1  9  0  6  1  0  5 15  2  2  2  3  0  1  0  5  4  2  0  4\n",
      "  5 10  1  1  0  3  0  0  1  0  0  9  0 17 17  4  1  0  0  6  8  9  9 16\n",
      "  4  0 10  2  2  2  9  0  8  0  0  9  0  4  0 10  5  0  4  0  8  2  5  1\n",
      "  1  4  1  9  8  2  4  0  5  9  7  1  1  3  3  1  0  2 14  1  9  0  0  0\n",
      "  5  1  7  1  0  0  0  2  4  1  2  0  2  0  0  4  1  0  4  0  1  2  9  9\n",
      "  0  1  0  1  0  0 11  0  2  0  9 10  0  0  0  2  6  0  4 10  2 15  0  0\n",
      "  2  0  1  1  4  1  3  5  0  2  4 16  5  0  0  4  0  0  1 14 10  7  1  1\n",
      "  0 10  0  0 15  8  0  1  0  9  0  0  0  0  0  7  9  1  2  0  1  4  2 15\n",
      "  0  7  1  9 10  0  2  0  0  2  0  0  0 13  0  0  0  5  1  0  2  1 10  4\n",
      "  1  0  0  3  2  4  9  7  1  2  0  2  2  8  4  0  0  1  0  0  2  3  6  9\n",
      "  2  1  9  5  7  9 18  2 17  7  2  0  0  7  0  1  3  0  3  3  8  0  0  0\n",
      "  9  0  0  9  1  0  0  4  0  0  2  2  9  0  4  5  2  0  2  5  1  4  0  2\n",
      "  0  0  0  0  0  0  2  1  0  1  0  9  4  4  0  1 18  1  1  8  1  2  2  1\n",
      "  1  0  9  5  2  2  0  1  2 14  2  4  6  2  1  0  0  8  1  4  0  9  2  7\n",
      "  5  0 10  2  0  6  1  7  2  0  4 10  0  9 14]\n"
     ]
    }
   ],
   "source": [
    "X_train, X_test, y_train, y_test = train_test_split(input_data, dataset['Fertilizer'], test_size=0.2, random_state=42)\n",
    "\n",
    "    # Train the random forest model\n",
    "model_fert = RandomForestClassifier(n_estimators=100, random_state=42)\n",
    "model_fert.fit(X_train, y_train)\n",
    "\n",
    "    # Make predictions\n",
    "predicted_fert = model_fert.predict(X_test)\n",
    "print(predicted_fert)"
   ]
  },
  {
   "cell_type": "code",
   "execution_count": 79,
   "metadata": {},
   "outputs": [
    {
     "name": "stdout",
     "output_type": "stream",
     "text": [
      "0.946843853820598\n"
     ]
    }
   ],
   "source": [
    "from sklearn.metrics import accuracy_score\n",
    "acc = accuracy_score(predicted_fert, y_test)\n",
    "print(acc)"
   ]
  },
  {
   "cell_type": "code",
   "execution_count": 80,
   "metadata": {},
   "outputs": [
    {
     "name": "stdout",
     "output_type": "stream",
     "text": [
      "Classification Report:\n",
      "               precision    recall  f1-score   support\n",
      "\n",
      "           0       0.96      0.94      0.95       276\n",
      "           1       0.98      0.97      0.98       134\n",
      "           2       0.94      0.98      0.96       122\n",
      "           3       0.88      1.00      0.94        29\n",
      "           4       0.96      0.80      0.87        80\n",
      "           5       1.00      1.00      1.00        43\n",
      "           6       1.00      1.00      1.00        18\n",
      "           7       0.89      1.00      0.94        24\n",
      "           8       0.92      1.00      0.96        23\n",
      "           9       0.96      0.97      0.96        90\n",
      "          10       0.73      0.86      0.79        22\n",
      "          11       0.00      0.00      0.00         0\n",
      "          12       0.00      0.00      0.00         2\n",
      "          13       1.00      1.00      1.00         2\n",
      "          14       1.00      1.00      1.00        10\n",
      "          15       1.00      0.85      0.92        13\n",
      "          16       0.50      1.00      0.67         2\n",
      "          17       1.00      1.00      1.00         9\n",
      "          18       1.00      1.00      1.00         4\n",
      "\n",
      "    accuracy                           0.95       903\n",
      "   macro avg       0.83      0.86      0.84       903\n",
      "weighted avg       0.95      0.95      0.95       903\n",
      "\n"
     ]
    },
    {
     "name": "stderr",
     "output_type": "stream",
     "text": [
      "c:\\Users\\khushi\\PycharmProjects\\pythonProject\\venv\\lib\\site-packages\\sklearn\\metrics\\_classification.py:1308: UndefinedMetricWarning: Precision and F-score are ill-defined and being set to 0.0 in labels with no predicted samples. Use `zero_division` parameter to control this behavior.\n",
      "  _warn_prf(average, modifier, msg_start, len(result))\n",
      "c:\\Users\\khushi\\PycharmProjects\\pythonProject\\venv\\lib\\site-packages\\sklearn\\metrics\\_classification.py:1308: UndefinedMetricWarning: Recall and F-score are ill-defined and being set to 0.0 in labels with no true samples. Use `zero_division` parameter to control this behavior.\n",
      "  _warn_prf(average, modifier, msg_start, len(result))\n",
      "c:\\Users\\khushi\\PycharmProjects\\pythonProject\\venv\\lib\\site-packages\\sklearn\\metrics\\_classification.py:1308: UndefinedMetricWarning: Precision and F-score are ill-defined and being set to 0.0 in labels with no predicted samples. Use `zero_division` parameter to control this behavior.\n",
      "  _warn_prf(average, modifier, msg_start, len(result))\n",
      "c:\\Users\\khushi\\PycharmProjects\\pythonProject\\venv\\lib\\site-packages\\sklearn\\metrics\\_classification.py:1308: UndefinedMetricWarning: Recall and F-score are ill-defined and being set to 0.0 in labels with no true samples. Use `zero_division` parameter to control this behavior.\n",
      "  _warn_prf(average, modifier, msg_start, len(result))\n",
      "c:\\Users\\khushi\\PycharmProjects\\pythonProject\\venv\\lib\\site-packages\\sklearn\\metrics\\_classification.py:1308: UndefinedMetricWarning: Precision and F-score are ill-defined and being set to 0.0 in labels with no predicted samples. Use `zero_division` parameter to control this behavior.\n",
      "  _warn_prf(average, modifier, msg_start, len(result))\n",
      "c:\\Users\\khushi\\PycharmProjects\\pythonProject\\venv\\lib\\site-packages\\sklearn\\metrics\\_classification.py:1308: UndefinedMetricWarning: Recall and F-score are ill-defined and being set to 0.0 in labels with no true samples. Use `zero_division` parameter to control this behavior.\n",
      "  _warn_prf(average, modifier, msg_start, len(result))\n"
     ]
    }
   ],
   "source": [
    "from sklearn import metrics\n",
    "print ('Classification Report:\\n', metrics.classification_report(y_test, predicted_fert))"
   ]
  },
  {
   "cell_type": "code",
   "execution_count": 81,
   "metadata": {},
   "outputs": [],
   "source": [
    "train = pd.DataFrame(input_data)\n",
    "overall_fert = model_fert.predict(input_data)\n",
    "train['Fertilizer']=(dataset['Fertilizer'])\n",
    "train['Predicted Fertilizer'] = list(overall_fert)\n",
    "train.to_csv('overall_results_fert.csv', header=True, index=False)"
   ]
  },
  {
   "cell_type": "code",
   "execution_count": 82,
   "metadata": {},
   "outputs": [
    {
     "data": {
      "text/plain": [
       "['model_fert.sav']"
      ]
     },
     "execution_count": 82,
     "metadata": {},
     "output_type": "execute_result"
    }
   ],
   "source": [
    "import joblib\n",
    "file = 'model_fert.sav'\n",
    "joblib.dump(model_fert, file)"
   ]
  },
  {
   "cell_type": "code",
   "execution_count": 83,
   "metadata": {},
   "outputs": [
    {
     "name": "stderr",
     "output_type": "stream",
     "text": [
      "c:\\Users\\khushi\\PycharmProjects\\pythonProject\\venv\\lib\\site-packages\\sklearn\\base.py:441: UserWarning: X does not have valid feature names, but RandomForestClassifier was fitted with feature names\n",
      "  warnings.warn(\n"
     ]
    },
    {
     "data": {
      "text/plain": [
       "array([0], dtype=int64)"
      ]
     },
     "execution_count": 83,
     "metadata": {},
     "output_type": "execute_result"
    }
   ],
   "source": [
    "lis =[0, 1, '10', '55', '60', '6', '800', '35', 7]\n",
    "test = model_fert.predict([lis])\n",
    "test"
   ]
  }
 ],
 "metadata": {
  "kernelspec": {
   "display_name": "venv",
   "language": "python",
   "name": "python3"
  },
  "language_info": {
   "codemirror_mode": {
    "name": "ipython",
    "version": 3
   },
   "file_extension": ".py",
   "mimetype": "text/x-python",
   "name": "python",
   "nbconvert_exporter": "python",
   "pygments_lexer": "ipython3",
   "version": "3.9.2"
  }
 },
 "nbformat": 4,
 "nbformat_minor": 2
}
